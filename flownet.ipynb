{
 "cells": [
  {
   "cell_type": "code",
   "execution_count": 13,
   "metadata": {},
   "outputs": [],
   "source": [
    "import io_routines\n",
    "import random\n",
    "\n"
   ]
  },
  {
   "cell_type": "code",
   "execution_count": 32,
   "metadata": {},
   "outputs": [],
   "source": [
    "DATA_FOLDER = \"./chairs/FlyingChairs_release/data\"\n",
    "SPLIT_FILE  = \"./chairs/FlyingChairs_train_val.txt\"\n",
    "SAMPLE_NUMBER = 10#22872\n",
    "RANDOM_SEED = 1000\n",
    "TRAIN_PORTION = 0.80\n",
    "VAL_PORTION   = 0.15\n",
    "TEST_PORTION  = 0.05\n",
    "\n",
    "random.seed(RANDOM_SEED)"
   ]
  },
  {
   "cell_type": "code",
   "execution_count": 33,
   "metadata": {},
   "outputs": [
    {
     "name": "stdout",
     "output_type": "stream",
     "text": [
      "{'test': ['00000'], 'train': ['00004', '00003', '00006', '00002', '00005', '00001', '00007', '00008'], 'val': ['00009']}\n"
     ]
    }
   ],
   "source": [
    "\n",
    "\n",
    "labels = {format(i, \"05d\"): i for i in range(SAMPLE_NUMBER)}\n",
    "all_ids = list(labels.keys())\n",
    "\n",
    "random.shuffle(all_ids)\n",
    "partition = {}\n",
    "\n",
    "train_start_id = 0\n",
    "train_stop_id  = int(SAMPLE_NUMBER * TRAIN_PORTION)\n",
    "partition[\"train\"] = all_ids[train_start_id:train_stop_id]\n",
    "\n",
    "val_start_id = int(SAMPLE_NUMBER * TRAIN_PORTION)\n",
    "val_stop_id  = int(SAMPLE_NUMBER * (TRAIN_PORTION + VAL_PORTION))\n",
    "partition[\"val\"] = all_ids[val_start_id:val_stop_id]\n",
    "\n",
    "test_start_id = int(SAMPLE_NUMBER * (TRAIN_PORTION + VAL_PORTION))\n",
    "test_stop_id  = SAMPLE_NUMBER\n",
    "partition[\"test\"] = all_ids[test_start_id:test_stop_id]\n",
    "\n",
    "print (partition)"
   ]
  }
 ],
 "metadata": {
  "kernelspec": {
   "display_name": "Python 3",
   "language": "python",
   "name": "python3"
  },
  "language_info": {
   "codemirror_mode": {
    "name": "ipython",
    "version": 3
   },
   "file_extension": ".py",
   "mimetype": "text/x-python",
   "name": "python",
   "nbconvert_exporter": "python",
   "pygments_lexer": "ipython3",
   "version": "3.5.2"
  }
 },
 "nbformat": 4,
 "nbformat_minor": 2
}
